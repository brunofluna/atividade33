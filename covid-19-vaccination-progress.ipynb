{
 "cells": [
  {
   "cell_type": "markdown",
   "metadata": {
    "papermill": {
     "duration": 0.034204,
     "end_time": "2021-06-22T06:34:59.706668",
     "exception": false,
     "start_time": "2021-06-22T06:34:59.672464",
     "status": "completed"
    },
    "tags": []
   },
   "source": [
    "<center><h1>COVID-19 Vaccination Progress</h1></center>\n",
    "<br>\n",
    "<center><img src=\"https://c.files.bbci.co.uk/53A9/production/_115371412_gettyimages-1265248637.jpg\" width=600></img></center>  \n",
    "\n",
    "<br>\n",
    "\n",
    "<h1 style='background:#26A2AB; border:0; color:black'><center>Introduction</center></h1> \n",
    "\n",
    "The data contains the following information:  \n",
    "\n",
    "* **Country** - this is the country for which the vaccination information is provided;     \n",
    "* **Country ISO Code** - ISO code for the country;   \n",
    "* **Date**- date for the data entry; for some of the dates we have only the daily vaccinations, for others, only the (cumulative) total;   \n",
    "* **Total number of vaccin ations** - this is the absolute number of total immunizations in the country;  \n",
    "* **Total number of people vaccinated** - a person, depending on the immunization scheme, will receive one or more (typically 2) vaccines; at a certain moment, the number of vaccination might be larger than the number of people;  \n",
    "* **Total number of people fully vaccinated** - this is the number of people that received the entire set of immunization according to the immunization scheme (typically 2); at a certain moment in time, there might be a certain number of people that received one vaccine and another number (smaller) of people that received all vaccines in the scheme;  \n",
    "* **Daily vaccinations (raw)** - for a certain data entry, the number of vaccination for that date/country;  \n",
    "* **Daily vaccinations** - for a certain data entry, the number of vaccination for that date/country;  \n",
    "* **Total vaccinations per hundred** - ratio (in percent) between vaccination number and total population up to the date in the country;  \n",
    "* **Total number of people vaccinated per hundred** - ratio (in percent) between population immunized and total population up to the date in the country;  \n",
    "* **Total number of people fully vaccinated per hundred** - ratio (in percent) between population fully immunized and total population up to the date in the country;   \n",
    "* **Number of vaccinations per day** - number of daily vaccination for that day and country;   \n",
    "* **Daily vaccinations per million** -  ratio (in ppm) between vaccination number and total population for the current date in the country;    \n",
    "* **Vaccines used in the country** - total number of vaccines used in the country (up to date);    \n",
    "* **Source name** - source of the information (national authority, international organization, local organization etc.);   \n",
    "* **Source website** - website of the source of information;    \n",
    "\n",
    "\n",
    "<a id=\"0\"></a>\n",
    "\n",
    "### Content  \n",
    "\n",
    "* <a href='#1'>Analysis preparation</a>  \n",
    "* <a href='#2'>What vaccines are used in each country?</a>    \n",
    "* <a href='#3'>Which vaccination scheme is used most?</a>    \n",
    "* <a href='#4'>How many are vaccinated (total and as percent from population)?</a>    \n",
    "* <a href='#5'>How the vaccination progressed</a>  \n",
    "\n",
    "\n",
    "### Last updated\n",
    "\n",
    "\n",
    "---\n",
    "<center><h1>Progresso da vacinação contra a COVID-19</h1></center><br><center><img src=\"https://c.files.bbci.co.uk/53A9/production/_115371412_gettyimages-1265248637.jpg\" width=600></img></center> <br><h1 style='background:#26A2AB; border:0; color:black'><center>Introdução</center></h1> \n",
    "Os dados contêm as seguintes informações: \n",
    "* **País** - este é o país para o qual as informações de vacinação são fornecidas; \n",
    "* **Código ISO do país** - código ISO para o país; \n",
    "* **Data** - data para a entrada de dados; para algumas das datas, temos apenas as vacinações diárias, para outras, apenas o total (cumulativo); \n",
    "* **Número total de vacinações** - este é o número absoluto de imunizações totais no país; \n",
    "* **Número total de pessoas vacinadas** - uma pessoa, dependendo do esquema de imunização, receberá uma ou mais vacinas (normalmente 2); em um determinado momento, o número de vacinações pode ser maior que o número de pessoas; \n",
    "* **Número total de pessoas totalmente vacinadas** - este é o número de pessoas que receberam todo o conjunto de imunizações de acordo com o esquema de imunização (normalmente 2); em um determinado momento, pode haver um certo número de pessoas que receberam uma vacina e outro número (menor) de pessoas que receberam todas as vacinas do esquema; \n",
    "* **Vacinações diárias (brutas)** - para uma determinada entrada de dados, o número de vacinações para aquela data/país; \n",
    "* **Vacinações diárias** - para uma determinada entrada de dados, o número de vacinações para aquela data/país; \n",
    "* **Total de vacinações por cem** - razão (em porcentagem) entre o número de vacinações e a população total até a data no país; \n",
    "* **Número total de pessoas vacinadas por cem** - razão (em porcentagem) entre a população imunizada e a população total até a data no país; \n",
    "* **Número total de pessoas totalmente vacinadas por cem** - proporção (em porcentagem) entre a população totalmente imunizada e a população total até a data no país; * **Número de vacinações por dia** - número de vacinações diárias para aquele dia e país; \n",
    "* **Vacinações diárias por milhão** - proporção (em ppm) entre o número de vacinações e a população total para a data atual no país; * **Vacinas usadas no país** - número total de vacinas usadas no país (atualizado); \n",
    "* **Nome da fonte** - fonte da informação (autoridade nacional, organização internacional, organização local etc.); \n",
    "* **Site da fonte** - site da fonte de informação; \n",
    "\n",
    "<a id=\"0\"></a>### Conteúdo \n",
    "\n",
    "* <a href='#1'>Preparação da análise</a> \n",
    "* <a href='#2'>Quais vacinas são usadas em cada país?</a> \n",
    "* <a href='#3'>Qual ​​esquema de vacinação é mais usado?</a> \n",
    "* <a href='#4'>Quantos são vacinados (total e como porcentagem da população)?</a> \n",
    "* <a href='#5'>Como a vacinação progrediu</a> ### Última atualização\n",
    "\n",
    "---\n",
    "\n",
    "\n",
    "\n"
   ]
  },
  {
   "cell_type": "code",
   "execution_count": 14,
   "metadata": {
    "_kg_hide-input": true,
    "execution": {
     "iopub.execute_input": "2021-06-22T06:34:59.780408Z",
     "iopub.status.busy": "2021-06-22T06:34:59.779705Z",
     "iopub.status.idle": "2021-06-22T06:34:59.793732Z",
     "shell.execute_reply": "2021-06-22T06:34:59.793066Z",
     "shell.execute_reply.started": "2021-06-22T06:33:38.595115Z"
    },
    "papermill": {
     "duration": 0.05395,
     "end_time": "2021-06-22T06:34:59.793844",
     "exception": false,
     "start_time": "2021-06-22T06:34:59.739894",
     "status": "completed"
    },
    "tags": []
   },
   "outputs": [
    {
     "ename": "FileNotFoundError",
     "evalue": "[WinError 3] O sistema não pode encontrar o caminho especificado: 'atividade33'",
     "output_type": "error",
     "traceback": [
      "\u001b[1;31m---------------------------------------------------------------------------\u001b[0m",
      "\u001b[1;31mFileNotFoundError\u001b[0m                         Traceback (most recent call last)",
      "Cell \u001b[1;32mIn[14], line 4\u001b[0m\n\u001b[0;32m      2\u001b[0m \u001b[38;5;28;01mimport\u001b[39;00m \u001b[38;5;21;01mos\u001b[39;00m\n\u001b[0;32m      3\u001b[0m \u001b[38;5;28;01mimport\u001b[39;00m \u001b[38;5;21;01mtime\u001b[39;00m\n\u001b[1;32m----> 4\u001b[0m \u001b[38;5;28;01mwith\u001b[39;00m \u001b[43mos\u001b[49m\u001b[38;5;241;43m.\u001b[39;49m\u001b[43mscandir\u001b[49m\u001b[43m(\u001b[49m\u001b[38;5;124;43m\"\u001b[39;49m\u001b[38;5;124;43matividade33\u001b[39;49m\u001b[38;5;124;43m\"\u001b[39;49m\u001b[43m)\u001b[49m \u001b[38;5;28;01mas\u001b[39;00m dir_entries:\n\u001b[0;32m      5\u001b[0m     \u001b[38;5;28;01mfor\u001b[39;00m entry \u001b[38;5;129;01min\u001b[39;00m dir_entries:\n\u001b[0;32m      6\u001b[0m         unix_timestamp  \u001b[38;5;241m=\u001b[39m \u001b[38;5;28mint\u001b[39m(entry\u001b[38;5;241m.\u001b[39mstat()\u001b[38;5;241m.\u001b[39mst_mtime)\n",
      "\u001b[1;31mFileNotFoundError\u001b[0m: [WinError 3] O sistema não pode encontrar o caminho especificado: 'atividade33'"
     ]
    }
   ],
   "source": [
    "import datetime\n",
    "import os\n",
    "import time\n",
    "with os.scandir(\"atividade33\") as dir_entries:\n",
    "    for entry in dir_entries:\n",
    "        unix_timestamp  = int(entry.stat().st_mtime)\n",
    "        utc_time = time.gmtime(unix_timestamp)\n",
    "        print(f\"Dataset last time updated: {utc_time.tm_year}-{utc_time.tm_mon}-{utc_time.tm_mday}\")\n",
    "        break\n",
    "        \n",
    "ldt = datetime.datetime.now()\n",
    "print(f\"Noteboook last time updated: {ldt.year}-{ldt.month}-{ldt.day}\")"
   ]
  },
  {
   "cell_type": "markdown",
   "metadata": {
    "papermill": {
     "duration": 0.034154,
     "end_time": "2021-06-22T06:34:59.861969",
     "exception": false,
     "start_time": "2021-06-22T06:34:59.827815",
     "status": "completed"
    },
    "tags": []
   },
   "source": [
    "<a id=\"1\"></a><h1 style='background:#26A2AB; border:0; color:black'><center>Analysis preparation</center></h1>\n",
    "\n",
    "\n",
    "We initialize the Python packages we will use for data ingestion, preparation and visualization. We will use mostly Plotly for visualization.\n",
    "Then we read the data file and aggregate the data on few fields (country, iso_code and vaccines - that is the vaccination scheme used in a certain country).\n",
    "\n",
    "We will mainly look to:\n",
    "* What vaccination schemes are used in various countries;  \n",
    "* Total number of vaccinations and percent of vaccinations;  \n",
    "* Daily vaccinations and daily vaccinations per million;\n",
    "* Total people vaccinated and percent of people vaccinated;   \n",
    "\n",
    "In the dataset is also information about the total number of people completely vaccinated (and percent of them).\n",
    "\n",
    "We visualize the latest (maximum) values and as well for the variation in time of the above mentioned values.\n",
    "\n",
    "\n",
    "---\n",
    " \"Inicializamos os pacotes Python que usaremos para ingestão, preparação e visualização de dados. Usaremos principalmente o Plotly para visualização. Em seguida, lemos o arquivo de dados e agregamos os dados em alguns campos (país, iso_code e vacinas - que é o esquema de vacinação usado em um determinado país).\n",
    " Observaremos principalmente: \n",
    " * Quais esquemas de vacinação são usados ​​em vários países; \n",
    " * Número total de vacinações e porcentagem de vacinações; \n",
    " * Vacinações diárias e vacinações diárias por milhão; \n",
    " * Total de pessoas vacinadas e porcentagem de pessoas vacinadas; \n",
    " No conjunto de dados também há informações sobre   o número total de pessoas completamente vacinadas (e porcentagem delas). \n",
    " Visualizamos os valores mais recentes (máximos) e também a variação no tempo dos valores mencionados acima.\"\n",
    "\n",
    "---"
   ]
  },
  {
   "cell_type": "code",
   "execution_count": null,
   "metadata": {
    "_cell_guid": "b1076dfc-b9ad-4769-8c92-a6c4dae69d19",
    "_kg_hide-input": true,
    "_uuid": "8f2839f25d086af736a60e9eeb907d3b93b6e0e5",
    "execution": {
     "iopub.execute_input": "2021-06-22T06:34:59.937879Z",
     "iopub.status.busy": "2021-06-22T06:34:59.937215Z",
     "iopub.status.idle": "2021-06-22T06:35:03.160183Z",
     "shell.execute_reply": "2021-06-22T06:35:03.159503Z",
     "shell.execute_reply.started": "2021-06-22T06:33:38.614623Z"
    },
    "papermill": {
     "duration": 3.264754,
     "end_time": "2021-06-22T06:35:03.160320",
     "exception": false,
     "start_time": "2021-06-22T06:34:59.895566",
     "status": "completed"
    },
    "tags": []
   },
   "outputs": [],
   "source": [
    "import numpy as np\n",
    "import pandas as pd \n",
    "import matplotlib.pyplot as plt\n",
    "import seaborn as sns \n",
    "import plotly.graph_objs as go\n",
    "import plotly.figure_factory as ff\n",
    "from plotly import tools\n",
    "from plotly.offline import download_plotlyjs, init_notebook_mode, plot, iplot\n",
    "import plotly.express as px\n",
    "init_notebook_mode(connected=True)\n",
    "import warnings\n",
    "warnings.filterwarnings(\"ignore\")"
   ]
  },
  {
   "cell_type": "code",
   "execution_count": null,
   "metadata": {
    "_cell_guid": "79c7e3d0-c299-4dcb-8224-4455121ee9b0",
    "_kg_hide-input": true,
    "_uuid": "d629ff2d2480ee46fbb7e2d37f6b5fab8052498a",
    "execution": {
     "iopub.execute_input": "2021-06-22T06:35:03.237288Z",
     "iopub.status.busy": "2021-06-22T06:35:03.236578Z",
     "iopub.status.idle": "2021-06-22T06:35:03.354098Z",
     "shell.execute_reply": "2021-06-22T06:35:03.353396Z",
     "shell.execute_reply.started": "2021-06-22T06:33:44.557353Z"
    },
    "papermill": {
     "duration": 0.159293,
     "end_time": "2021-06-22T06:35:03.354247",
     "exception": false,
     "start_time": "2021-06-22T06:35:03.194954",
     "status": "completed"
    },
    "tags": []
   },
   "outputs": [],
   "source": [
    "data_df = pd.read_csv(\"/kaggle/input/covid-world-vaccination-progress/country_vaccinations.csv\")"
   ]
  },
  {
   "cell_type": "code",
   "execution_count": null,
   "metadata": {
    "_kg_hide-input": true,
    "execution": {
     "iopub.execute_input": "2021-06-22T06:35:03.439534Z",
     "iopub.status.busy": "2021-06-22T06:35:03.438510Z",
     "iopub.status.idle": "2021-06-22T06:35:03.458935Z",
     "shell.execute_reply": "2021-06-22T06:35:03.458339Z",
     "shell.execute_reply.started": "2021-06-22T06:33:48.176203Z"
    },
    "papermill": {
     "duration": 0.070637,
     "end_time": "2021-06-22T06:35:03.459050",
     "exception": false,
     "start_time": "2021-06-22T06:35:03.388413",
     "status": "completed"
    },
    "tags": []
   },
   "outputs": [],
   "source": [
    "country_vaccine = data_df.groupby([\"country\", \"iso_code\", \"vaccines\"])['total_vaccinations', \n",
    "                                                                       'total_vaccinations_per_hundred',\n",
    "                                                                      'daily_vaccinations',\n",
    "                                                                      'daily_vaccinations_per_million',\n",
    "                                                                      'people_vaccinated',\n",
    "                                                                      'people_vaccinated_per_hundred',\n",
    "                                                                       'people_fully_vaccinated', 'people_fully_vaccinated_per_hundred'\n",
    "                                                                      ].max().reset_index()\n",
    "country_vaccine.columns = [\"Country\", \"iso_code\", \"Vaccines\", \"Total vaccinations\", \"Percent\", \"Daily vaccinations\", \n",
    "                           \"Daily vaccinations per million\", \"People vaccinated\", \"People vaccinated per hundred\",\n",
    "                           'People fully vaccinated', 'People fully vaccinated percent']"
   ]
  },
  {
   "cell_type": "markdown",
   "metadata": {
    "papermill": {
     "duration": 0.0335,
     "end_time": "2021-06-22T06:35:03.526779",
     "exception": false,
     "start_time": "2021-06-22T06:35:03.493279",
     "status": "completed"
    },
    "tags": []
   },
   "source": [
    "<small><a href='#0'>Go to top</a></small>  "
   ]
  },
  {
   "cell_type": "markdown",
   "metadata": {
    "papermill": {
     "duration": 0.033402,
     "end_time": "2021-06-22T06:35:03.593986",
     "exception": false,
     "start_time": "2021-06-22T06:35:03.560584",
     "status": "completed"
    },
    "tags": []
   },
   "source": [
    "\n",
    "<a id=\"2\"></a><h1 style='background:#26A2AB; border:0; color:black'><center>What vaccines are used in each country?</center></h1>"
   ]
  },
  {
   "cell_type": "markdown",
   "metadata": {
    "papermill": {
     "duration": 0.033533,
     "end_time": "2021-06-22T06:35:03.661909",
     "exception": false,
     "start_time": "2021-06-22T06:35:03.628376",
     "status": "completed"
    },
    "tags": []
   },
   "source": [
    "Press **Output** button to see a list of countries where each vaccine is used. \n",
    "\n",
    "---\n",
    "\"Pressione o botão **Saída** para ver uma lista de países onde cada vacina é usada.\"\n",
    "---\n"
   ]
  },
  {
   "cell_type": "code",
   "execution_count": null,
   "metadata": {
    "_kg_hide-input": true,
    "_kg_hide-output": true,
    "execution": {
     "iopub.execute_input": "2021-06-22T06:35:03.742781Z",
     "iopub.status.busy": "2021-06-22T06:35:03.739799Z",
     "iopub.status.idle": "2021-06-22T06:35:03.765274Z",
     "shell.execute_reply": "2021-06-22T06:35:03.766297Z",
     "shell.execute_reply.started": "2021-06-22T06:33:54.240421Z"
    },
    "papermill": {
     "duration": 0.070636,
     "end_time": "2021-06-22T06:35:03.766508",
     "exception": false,
     "start_time": "2021-06-22T06:35:03.695872",
     "status": "completed"
    },
    "tags": []
   },
   "outputs": [],
   "source": [
    "vaccines = country_vaccine.Vaccines.unique()\n",
    "for v in vaccines:\n",
    "    countries = country_vaccine.loc[country_vaccine.Vaccines==v, 'Country'].values\n",
    "    print(f\"Vaccines: {v}: \\nCountries: {list(countries)}\\n\")"
   ]
  },
  {
   "cell_type": "code",
   "execution_count": null,
   "metadata": {
    "_kg_hide-input": true,
    "execution": {
     "iopub.execute_input": "2021-06-22T06:35:03.861442Z",
     "iopub.status.busy": "2021-06-22T06:35:03.860240Z",
     "iopub.status.idle": "2021-06-22T06:35:05.027797Z",
     "shell.execute_reply": "2021-06-22T06:35:05.028343Z",
     "shell.execute_reply.started": "2021-06-22T06:34:00.503357Z"
    },
    "papermill": {
     "duration": 1.219176,
     "end_time": "2021-06-22T06:35:05.028485",
     "exception": false,
     "start_time": "2021-06-22T06:35:03.809309",
     "status": "completed"
    },
    "tags": []
   },
   "outputs": [],
   "source": [
    "fig = px.choropleth(locations=country_vaccine['Country'], \n",
    "                    locationmode=\"country names\",\n",
    "                    color=country_vaccine['Vaccines'],\n",
    "                    title=\"Countries using each vaccine (different colors for each vaccine)\",\n",
    "                    height = 800\n",
    "                   )\n",
    "fig.update_layout({'legend_orientation':'v'})\n",
    "fig.update_layout({'legend_title':'Vaccine scheme'})\n",
    "fig.show()"
   ]
  },
  {
   "cell_type": "markdown",
   "metadata": {
    "papermill": {
     "duration": 0.050852,
     "end_time": "2021-06-22T06:35:05.129232",
     "exception": false,
     "start_time": "2021-06-22T06:35:05.078380",
     "status": "completed"
    },
    "tags": []
   },
   "source": [
    "<small><a href='#0'>Go to top</a></small>  \n",
    "\n",
    "---\n",
    "<small><a href='#0'>Ir para o topo</a></small>\n",
    "\n",
    "---"
   ]
  },
  {
   "cell_type": "markdown",
   "metadata": {
    "papermill": {
     "duration": 0.048659,
     "end_time": "2021-06-22T06:35:05.227017",
     "exception": false,
     "start_time": "2021-06-22T06:35:05.178358",
     "status": "completed"
    },
    "tags": []
   },
   "source": [
    "<a id=\"3\"></a><h1 style='background:#26A2AB; border:0; color:black'><center>Which vaccination scheme is used most?</center></h1>\n",
    "\n",
    "---\n",
    "<a id=\"3\"></a><h1 style='background:#26A2AB; border:0; color:black'><center>Qual ​​esquema de vacinação é mais utilizado?</center></h1>\n",
    "\n",
    "---\n",
    "\n",
    "\n",
    "\n"
   ]
  },
  {
   "cell_type": "markdown",
   "metadata": {
    "papermill": {
     "duration": 0.0489,
     "end_time": "2021-06-22T06:35:05.324903",
     "exception": false,
     "start_time": "2021-06-22T06:35:05.276003",
     "status": "completed"
    },
    "tags": []
   },
   "source": [
    "## Overall\n",
    "\n",
    "Let's look first to the vaccination scheme used overall (not splitted per countries).\n",
    "\n",
    "---\n",
    "## GeralVamos \n",
    "\n",
    "primeiro olhar para o esquema de vacinação usado em geral (não dividido por países).\"\n",
    "---\n"
   ]
  },
  {
   "cell_type": "code",
   "execution_count": null,
   "metadata": {
    "_kg_hide-input": true,
    "execution": {
     "iopub.execute_input": "2021-06-22T06:35:05.442453Z",
     "iopub.status.busy": "2021-06-22T06:35:05.441343Z",
     "iopub.status.idle": "2021-06-22T06:35:05.450053Z",
     "shell.execute_reply": "2021-06-22T06:35:05.450553Z",
     "shell.execute_reply.started": "2021-06-22T06:34:15.297738Z"
    },
    "papermill": {
     "duration": 0.077081,
     "end_time": "2021-06-22T06:35:05.450706",
     "exception": false,
     "start_time": "2021-06-22T06:35:05.373625",
     "status": "completed"
    },
    "tags": []
   },
   "outputs": [],
   "source": [
    "vaccine = data_df.groupby([\"vaccines\"])['total_vaccinations','total_vaccinations_per_hundred',\n",
    "                                       'daily_vaccinations','daily_vaccinations_per_million'].max().reset_index()\n",
    "vaccine.columns = [\"Vaccines\", \"Total vaccinations\", \"Percent\", \"Daily vaccinations\", \n",
    "                           \"Daily vaccinations per million\"]\n",
    "def draw_trace_bar_vaccine(data, feature, title, xlab, ylab,color='Blue'):\n",
    "    data = data.sort_values(feature, ascending=False)\n",
    "    trace = go.Bar(\n",
    "            x = data['Vaccines'],\n",
    "            y = data[feature],\n",
    "            marker=dict(color=color),\n",
    "            text=data['Vaccines']\n",
    "        )\n",
    "    data = [trace]\n",
    "\n",
    "    layout = dict(title = title,\n",
    "              xaxis = dict(title = xlab, showticklabels=True, tickangle=45, \n",
    "                           zeroline=True, zerolinewidth=1, zerolinecolor='grey',\n",
    "                           showline=True, linewidth=2, linecolor='black', mirror=True,\n",
    "                          tickfont=dict(\n",
    "                            size=10,\n",
    "                            color='black'),), \n",
    "              yaxis = dict(title = ylab, gridcolor='lightgrey', zeroline=True, zerolinewidth=1, zerolinecolor='grey',\n",
    "                          showline=True, linewidth=2, linecolor='black', mirror=True),\n",
    "              plot_bgcolor = 'rgba(0, 0, 0, 0)', paper_bgcolor = 'rgba(0, 0, 0, 0)',\n",
    "              hovermode = 'closest',\n",
    "              height = 800\n",
    "             )\n",
    "    fig = dict(data = data, layout = layout)\n",
    "    iplot(fig, filename='draw_trace')"
   ]
  },
  {
   "cell_type": "code",
   "execution_count": null,
   "metadata": {
    "_kg_hide-input": true,
    "execution": {
     "iopub.execute_input": "2021-06-22T06:35:05.560083Z",
     "iopub.status.busy": "2021-06-22T06:35:05.559066Z",
     "iopub.status.idle": "2021-06-22T06:35:05.720172Z",
     "shell.execute_reply": "2021-06-22T06:35:05.720706Z",
     "shell.execute_reply.started": "2021-06-22T06:34:19.395880Z"
    },
    "papermill": {
     "duration": 0.220935,
     "end_time": "2021-06-22T06:35:05.720844",
     "exception": false,
     "start_time": "2021-06-22T06:35:05.499909",
     "status": "completed"
    },
    "tags": []
   },
   "outputs": [],
   "source": [
    "draw_trace_bar_vaccine(vaccine, 'Total vaccinations', 'Total per vaccine scheme', 'Vaccine', 'Vaccination total', \"darkmagenta\" )"
   ]
  },
  {
   "cell_type": "markdown",
   "metadata": {
    "papermill": {
     "duration": 0.056487,
     "end_time": "2021-06-22T06:35:05.833592",
     "exception": false,
     "start_time": "2021-06-22T06:35:05.777105",
     "status": "completed"
    },
    "tags": []
   },
   "source": [
    "Some countries are using a mixed vaccination scheme (they are using more than one vaccine).\n",
    "\n",
    "The mapping is as following:\n",
    "* Moderna, Pfizer/BioNTech - USA;  \n",
    "* CNBG, Sinovac - China;  \n",
    "* Oxford/AstraZeneca, Pfizer/BioNTech', 'Pfizer/BioNTech - UK;  \n",
    "* Pfizer/BioNTech - mostly EU;  \n",
    "* Pfizer/BioNTech, Sinopharm - UAE;  \n",
    "* Sinovac - Turkey;   \n",
    "* Covaxin, Covishield - India;  \n",
    "\n",
    "---\n",
    "Alguns países estão usando um esquema de vacinação misto (eles estão usando mais de uma vacina). \n",
    "O mapeamento é o seguinte: \n",
    "* Moderna, Pfizer/BioNTech - EUA; \n",
    "* CNBG, Sinovac - China; \n",
    "* Oxford/AstraZeneca, Pfizer/BioNTech', 'Pfizer/BioNTech - Reino Unido; \n",
    "* Pfizer/BioNTech - principalmente UE; \n",
    "* Pfizer/BioNTech, Sinopharm - Emirados Árabes Unidos; \n",
    "* Sinovac - Turquia; * Covaxin, Covishield - Índia;\"\n",
    "\n",
    "---\n"
   ]
  },
  {
   "cell_type": "markdown",
   "metadata": {
    "papermill": {
     "duration": 0.055593,
     "end_time": "2021-06-22T06:35:05.946510",
     "exception": false,
     "start_time": "2021-06-22T06:35:05.890917",
     "status": "completed"
    },
    "tags": []
   },
   "source": [
    "<small><a href='#0'>Go to top</a></small>  \n",
    "\n",
    "---\n",
    "<small><a href='#0'>Ir para o topo</a></small>\n",
    "\n",
    "---\n"
   ]
  },
  {
   "cell_type": "markdown",
   "metadata": {
    "papermill": {
     "duration": 0.055814,
     "end_time": "2021-06-22T06:35:06.058903",
     "exception": false,
     "start_time": "2021-06-22T06:35:06.003089",
     "status": "completed"
    },
    "tags": []
   },
   "source": [
    "## Per countries\n",
    "\n",
    "To see the vaccination scheme distribution per countries, we will use treemap representations. \n",
    "\n",
    "We look to the total vaccinations, to daily vaccinations values as well as total people vaccinated.\n",
    "\n",
    "<font color=\"red\">Note</font>: click on a treemap item to navigate down the tree structure and expand the current branch.\n",
    "\n",
    "\n",
    "---\n",
    "## Por países\n",
    "Para ver a distribuição do esquema de vacinação por países, usaremos representações de mapa de árvore. \n",
    "Olhamos para as vacinações totais, para os valores diários de vacinação, bem como para o total de pessoas vacinadas.\n",
    "<font color=\"red\">Nota</font>: clique em um item de mapa de árvore para navegar pela estrutura da árvore e expandir o ramo atual.\n",
    "\n",
    "---"
   ]
  },
  {
   "cell_type": "code",
   "execution_count": null,
   "metadata": {
    "_kg_hide-input": true,
    "execution": {
     "iopub.execute_input": "2021-06-22T06:35:06.188189Z",
     "iopub.status.busy": "2021-06-22T06:35:06.184323Z",
     "iopub.status.idle": "2021-06-22T06:35:06.359345Z",
     "shell.execute_reply": "2021-06-22T06:35:06.359925Z",
     "shell.execute_reply.started": "2021-06-22T06:34:38.626378Z"
    },
    "papermill": {
     "duration": 0.244254,
     "end_time": "2021-06-22T06:35:06.360069",
     "exception": false,
     "start_time": "2021-06-22T06:35:06.115815",
     "status": "completed"
    },
    "tags": []
   },
   "outputs": [],
   "source": [
    "fig = px.treemap(country_vaccine, path = ['Vaccines', 'Country'], values = 'Total vaccinations',\n",
    "                title=\"Total vaccinations per country, grouped by vaccine scheme\")\n",
    "fig.show()"
   ]
  },
  {
   "cell_type": "code",
   "execution_count": null,
   "metadata": {
    "_kg_hide-input": true,
    "execution": {
     "iopub.execute_input": "2021-06-22T06:35:06.497027Z",
     "iopub.status.busy": "2021-06-22T06:35:06.496304Z",
     "iopub.status.idle": "2021-06-22T06:35:06.628877Z",
     "shell.execute_reply": "2021-06-22T06:35:06.629436Z"
    },
    "papermill": {
     "duration": 0.202499,
     "end_time": "2021-06-22T06:35:06.629581",
     "exception": false,
     "start_time": "2021-06-22T06:35:06.427082",
     "status": "completed"
    },
    "tags": []
   },
   "outputs": [],
   "source": [
    "fig = px.treemap(country_vaccine, path = ['Vaccines', 'Country'], values = 'Daily vaccinations',\n",
    "                title=\"Daily vaccinations per country, grouped by vaccine scheme\")\n",
    "fig.show()"
   ]
  },
  {
   "cell_type": "code",
   "execution_count": null,
   "metadata": {
    "_kg_hide-input": true,
    "execution": {
     "iopub.execute_input": "2021-06-22T06:35:06.785309Z",
     "iopub.status.busy": "2021-06-22T06:35:06.784633Z",
     "iopub.status.idle": "2021-06-22T06:35:06.921426Z",
     "shell.execute_reply": "2021-06-22T06:35:06.921968Z"
    },
    "papermill": {
     "duration": 0.217049,
     "end_time": "2021-06-22T06:35:06.922109",
     "exception": false,
     "start_time": "2021-06-22T06:35:06.705060",
     "status": "completed"
    },
    "tags": []
   },
   "outputs": [],
   "source": [
    "fig = px.treemap(country_vaccine, path = ['Vaccines', 'Country'], values = 'People vaccinated',\n",
    "                title=\"People vaccinated per country, grouped by vaccine scheme\")\n",
    "fig.show()"
   ]
  },
  {
   "cell_type": "markdown",
   "metadata": {
    "papermill": {
     "duration": 0.08696,
     "end_time": "2021-06-22T06:35:07.094584",
     "exception": false,
     "start_time": "2021-06-22T06:35:07.007624",
     "status": "completed"
    },
    "tags": []
   },
   "source": [
    "<small><a href='#0'>Go to top</a></small>  \n",
    "\n",
    "---\n",
    "\n",
    "<small><a href='#0'>Ir para o topo</a></small>\n",
    "\n",
    "---\n"
   ]
  },
  {
   "cell_type": "markdown",
   "metadata": {
    "papermill": {
     "duration": 0.085079,
     "end_time": "2021-06-22T06:35:07.265504",
     "exception": false,
     "start_time": "2021-06-22T06:35:07.180425",
     "status": "completed"
    },
    "tags": []
   },
   "source": [
    "\n",
    "<a id=\"4\"></a><h1 style='background:#26A2AB; border:0; color:black'><center>How many are vaccinated (total and as percent from population)?</center></h1>\n",
    "\n",
    "Let's look now to the countries statistics, irrespective to the vaccine scheme. We will look to the top of the countries by:\n",
    "\n",
    "- Total number of vaccinations;  \n",
    "- Percent of vaccinations from entire population;  \n",
    "- Daily number of vaccinations;  \n",
    "- Daily number of vaccination per million population;  \n",
    "- People vaccinated;  \n",
    "- Percent of vaccinated people from entire population.\n",
    "\n",
    "---\n",
    "<a id=\"4\"></a><h1 style='background:#26A2AB; border:0; color:black'><center>Quantos são vacinados (total e como porcentagem da população)?</center></h1>\n",
    "\n",
    "Vamos olhar agora para as estatísticas dos países, independentemente do esquema de vacinação. \n",
    "Vamos olhar para o topo dos países por:\n",
    "- Número total de vacinações; \n",
    "- Porcentagem de vacinações de toda a população; \n",
    "- Número diário de vacinações; \n",
    "- Número diário de vacinação por milhão de população; \n",
    "- Pessoas vacinadas; \n",
    "- Porcentagem de pessoas vacinadas de toda a população.\n",
    "\n",
    "---\n",
    "\n"
   ]
  },
  {
   "cell_type": "code",
   "execution_count": null,
   "metadata": {
    "_kg_hide-input": true,
    "execution": {
     "iopub.execute_input": "2021-06-22T06:35:07.448273Z",
     "iopub.status.busy": "2021-06-22T06:35:07.447226Z",
     "iopub.status.idle": "2021-06-22T06:35:07.450151Z",
     "shell.execute_reply": "2021-06-22T06:35:07.449532Z"
    },
    "papermill": {
     "duration": 0.099624,
     "end_time": "2021-06-22T06:35:07.450281",
     "exception": false,
     "start_time": "2021-06-22T06:35:07.350657",
     "status": "completed"
    },
    "tags": []
   },
   "outputs": [],
   "source": [
    "def draw_trace_bar(data, feature, title, xlab, ylab,color='Blue'):\n",
    "    data = data.sort_values(feature, ascending=False)\n",
    "    trace = go.Bar(\n",
    "            x = data['Country'],\n",
    "            y = data[feature],\n",
    "            marker=dict(color=color),\n",
    "            text=data['Country']\n",
    "        )\n",
    "    data = [trace]\n",
    "\n",
    "    layout = dict(title = title,\n",
    "              xaxis = dict(title = xlab, showticklabels=True, tickangle=45, \n",
    "                           zeroline=True, zerolinewidth=1, zerolinecolor='grey',\n",
    "                           showline=True, linewidth=2, linecolor='black', mirror=True,\n",
    "                          tickfont=dict(\n",
    "                            size=10,\n",
    "                            color='black'),), \n",
    "              yaxis = dict(title = ylab, gridcolor='lightgrey', zeroline=True, zerolinewidth=1, zerolinecolor='grey',\n",
    "                          showline=True, linewidth=2, linecolor='black', mirror=True),\n",
    "              plot_bgcolor = 'rgba(0, 0, 0, 0)', paper_bgcolor = 'rgba(0, 0, 0, 0)',\n",
    "              hovermode = 'closest'\n",
    "             )\n",
    "    fig = dict(data = data, layout = layout)\n",
    "    iplot(fig, filename='draw_trace')\n"
   ]
  },
  {
   "cell_type": "code",
   "execution_count": null,
   "metadata": {
    "_kg_hide-input": true,
    "execution": {
     "iopub.execute_input": "2021-06-22T06:35:07.658666Z",
     "iopub.status.busy": "2021-06-22T06:35:07.657517Z",
     "iopub.status.idle": "2021-06-22T06:35:07.677378Z",
     "shell.execute_reply": "2021-06-22T06:35:07.676710Z"
    },
    "papermill": {
     "duration": 0.14189,
     "end_time": "2021-06-22T06:35:07.677517",
     "exception": false,
     "start_time": "2021-06-22T06:35:07.535627",
     "status": "completed"
    },
    "tags": []
   },
   "outputs": [],
   "source": [
    "draw_trace_bar(country_vaccine, 'Total vaccinations', 'Vaccination total per country', 'Country', 'Vaccination total', \"Darkgreen\" )"
   ]
  },
  {
   "cell_type": "code",
   "execution_count": null,
   "metadata": {
    "_kg_hide-input": true,
    "execution": {
     "iopub.execute_input": "2021-06-22T06:35:07.894560Z",
     "iopub.status.busy": "2021-06-22T06:35:07.884171Z",
     "iopub.status.idle": "2021-06-22T06:35:07.918715Z",
     "shell.execute_reply": "2021-06-22T06:35:07.919267Z"
    },
    "papermill": {
     "duration": 0.148028,
     "end_time": "2021-06-22T06:35:07.919414",
     "exception": false,
     "start_time": "2021-06-22T06:35:07.771386",
     "status": "completed"
    },
    "tags": []
   },
   "outputs": [],
   "source": [
    "draw_trace_bar(country_vaccine, 'Percent', 'Vaccination percent per country', 'Country', 'Vaccination percent' )"
   ]
  },
  {
   "cell_type": "code",
   "execution_count": null,
   "metadata": {
    "_kg_hide-input": true,
    "execution": {
     "iopub.execute_input": "2021-06-22T06:35:08.195265Z",
     "iopub.status.busy": "2021-06-22T06:35:08.190017Z",
     "iopub.status.idle": "2021-06-22T06:35:08.224837Z",
     "shell.execute_reply": "2021-06-22T06:35:08.225382Z"
    },
    "papermill": {
     "duration": 0.15823,
     "end_time": "2021-06-22T06:35:08.225525",
     "exception": false,
     "start_time": "2021-06-22T06:35:08.067295",
     "status": "completed"
    },
    "tags": []
   },
   "outputs": [],
   "source": [
    "draw_trace_bar(country_vaccine, 'Daily vaccinations', 'Daily vaccinations per country', 'Country', 'Daily vaccinations', \"red\" )"
   ]
  },
  {
   "cell_type": "code",
   "execution_count": null,
   "metadata": {
    "_kg_hide-input": true,
    "execution": {
     "iopub.execute_input": "2021-06-22T06:35:08.488925Z",
     "iopub.status.busy": "2021-06-22T06:35:08.488242Z",
     "iopub.status.idle": "2021-06-22T06:35:08.499059Z",
     "shell.execute_reply": "2021-06-22T06:35:08.499618Z"
    },
    "papermill": {
     "duration": 0.164493,
     "end_time": "2021-06-22T06:35:08.499761",
     "exception": false,
     "start_time": "2021-06-22T06:35:08.335268",
     "status": "completed"
    },
    "tags": []
   },
   "outputs": [],
   "source": [
    "draw_trace_bar(country_vaccine, 'Daily vaccinations per million', 'Daily vaccinations per million per country', 'Country',\\\n",
    "               'Daily vaccinations per million', \"magenta\" )"
   ]
  },
  {
   "cell_type": "code",
   "execution_count": null,
   "metadata": {
    "_kg_hide-input": true,
    "execution": {
     "iopub.execute_input": "2021-06-22T06:35:08.740083Z",
     "iopub.status.busy": "2021-06-22T06:35:08.739397Z",
     "iopub.status.idle": "2021-06-22T06:35:08.786434Z",
     "shell.execute_reply": "2021-06-22T06:35:08.787159Z"
    },
    "papermill": {
     "duration": 0.169018,
     "end_time": "2021-06-22T06:35:08.787378",
     "exception": false,
     "start_time": "2021-06-22T06:35:08.618360",
     "status": "completed"
    },
    "tags": []
   },
   "outputs": [],
   "source": [
    "draw_trace_bar(country_vaccine, 'People vaccinated', 'People vaccinated per country', 'Country',\\\n",
    "               'People vaccinated', \"lightblue\" )"
   ]
  },
  {
   "cell_type": "code",
   "execution_count": null,
   "metadata": {
    "_kg_hide-input": true,
    "execution": {
     "iopub.execute_input": "2021-06-22T06:35:09.085176Z",
     "iopub.status.busy": "2021-06-22T06:35:09.068074Z",
     "iopub.status.idle": "2021-06-22T06:35:09.098736Z",
     "shell.execute_reply": "2021-06-22T06:35:09.099279Z"
    },
    "papermill": {
     "duration": 0.18281,
     "end_time": "2021-06-22T06:35:09.099425",
     "exception": false,
     "start_time": "2021-06-22T06:35:08.916615",
     "status": "completed"
    },
    "tags": []
   },
   "outputs": [],
   "source": [
    "draw_trace_bar(country_vaccine, 'People vaccinated per hundred', 'People vaccinated per hundred per country', 'Country',\\\n",
    "               'People vaccinated per hundred', \"orange\" )"
   ]
  },
  {
   "cell_type": "code",
   "execution_count": null,
   "metadata": {
    "_kg_hide-input": true,
    "execution": {
     "iopub.execute_input": "2021-06-22T06:35:09.384187Z",
     "iopub.status.busy": "2021-06-22T06:35:09.383160Z",
     "iopub.status.idle": "2021-06-22T06:35:09.386865Z",
     "shell.execute_reply": "2021-06-22T06:35:09.386346Z"
    },
    "papermill": {
     "duration": 0.151079,
     "end_time": "2021-06-22T06:35:09.386982",
     "exception": false,
     "start_time": "2021-06-22T06:35:09.235903",
     "status": "completed"
    },
    "tags": []
   },
   "outputs": [],
   "source": [
    "def plot_custom_scatter(df, x, y, size, color, hover_name, title):\n",
    "    fig = px.scatter(df, x=x, y=y, size=size, color=color,\n",
    "               hover_name=hover_name, size_max=80, title = title)\n",
    "    fig.update_layout({'legend_orientation':'h'})\n",
    "    fig.update_layout(legend=dict(yanchor=\"top\", y=-0.2))\n",
    "    fig.update_layout({'legend_title':'Vaccine scheme'})\n",
    "    fig.update_layout({'plot_bgcolor': 'rgba(0, 0, 0, 0)','paper_bgcolor': 'rgba(0, 0, 0, 0)'})\n",
    "    fig.update_xaxes(showline=True, linewidth=2, linecolor='black', mirror=True)\n",
    "    fig.update_yaxes(showline=True, linewidth=2, linecolor='black', mirror=True)\n",
    "    fig.update_xaxes(zeroline=True, zerolinewidth=1, zerolinecolor='grey')\n",
    "    fig.update_yaxes(zeroline=True, zerolinewidth=1, zerolinecolor='grey')\n",
    "    fig.update_xaxes(showgrid=True, gridwidth=1, gridcolor='lightgrey')\n",
    "    fig.update_yaxes(showgrid=True, gridwidth=1, gridcolor='lightgrey')\n",
    "    fig.show()    "
   ]
  },
  {
   "cell_type": "code",
   "execution_count": null,
   "metadata": {
    "_kg_hide-input": true,
    "execution": {
     "iopub.execute_input": "2021-06-22T06:35:09.664117Z",
     "iopub.status.busy": "2021-06-22T06:35:09.663411Z",
     "iopub.status.idle": "2021-06-22T06:35:10.066614Z",
     "shell.execute_reply": "2021-06-22T06:35:10.067158Z"
    },
    "papermill": {
     "duration": 0.545699,
     "end_time": "2021-06-22T06:35:10.067321",
     "exception": false,
     "start_time": "2021-06-22T06:35:09.521622",
     "status": "completed"
    },
    "tags": []
   },
   "outputs": [],
   "source": [
    "plot_custom_scatter(country_vaccine, x=\"Total vaccinations\", y=\"Percent\", size=\"Total vaccinations\", color=\"Vaccines\",\n",
    "           hover_name=\"Country\", title = \"Vaccinations (Percent vs. total), grouped per country and vaccines\")"
   ]
  },
  {
   "cell_type": "code",
   "execution_count": null,
   "metadata": {
    "_kg_hide-input": true,
    "execution": {
     "iopub.execute_input": "2021-06-22T06:35:10.424638Z",
     "iopub.status.busy": "2021-06-22T06:35:10.420282Z",
     "iopub.status.idle": "2021-06-22T06:35:10.831233Z",
     "shell.execute_reply": "2021-06-22T06:35:10.832061Z"
    },
    "papermill": {
     "duration": 0.608569,
     "end_time": "2021-06-22T06:35:10.832275",
     "exception": false,
     "start_time": "2021-06-22T06:35:10.223706",
     "status": "completed"
    },
    "tags": []
   },
   "outputs": [],
   "source": [
    "plot_custom_scatter(country_vaccine, x=\"Total vaccinations\", y=\"Daily vaccinations\", size=\"Total vaccinations\", color=\"Vaccines\",\n",
    "           hover_name=\"Country\", title = \"Vaccinations (Total vs. Daily) grouped per country and vaccines\")"
   ]
  },
  {
   "cell_type": "code",
   "execution_count": null,
   "metadata": {
    "_kg_hide-input": true,
    "execution": {
     "iopub.execute_input": "2021-06-22T06:35:11.249094Z",
     "iopub.status.busy": "2021-06-22T06:35:11.248027Z",
     "iopub.status.idle": "2021-06-22T06:35:11.619099Z",
     "shell.execute_reply": "2021-06-22T06:35:11.619661Z"
    },
    "papermill": {
     "duration": 0.606314,
     "end_time": "2021-06-22T06:35:11.619799",
     "exception": false,
     "start_time": "2021-06-22T06:35:11.013485",
     "status": "completed"
    },
    "tags": []
   },
   "outputs": [],
   "source": [
    "plot_custom_scatter(country_vaccine, x=\"Percent\", y=\"Daily vaccinations per million\", size=\"Total vaccinations\", color=\"Vaccines\",\n",
    "           hover_name=\"Country\", title = \"Vaccinations (Daily / million vs. Percent) grouped per country and vaccines\")"
   ]
  },
  {
   "cell_type": "code",
   "execution_count": null,
   "metadata": {
    "_kg_hide-input": true,
    "execution": {
     "iopub.execute_input": "2021-06-22T06:35:12.026790Z",
     "iopub.status.busy": "2021-06-22T06:35:12.024823Z",
     "iopub.status.idle": "2021-06-22T06:35:12.097553Z",
     "shell.execute_reply": "2021-06-22T06:35:12.098047Z"
    },
    "papermill": {
     "duration": 0.280614,
     "end_time": "2021-06-22T06:35:12.098218",
     "exception": false,
     "start_time": "2021-06-22T06:35:11.817604",
     "status": "completed"
    },
    "tags": []
   },
   "outputs": [],
   "source": [
    "trace = go.Choropleth(\n",
    "            locations = country_vaccine['Country'],\n",
    "            locationmode='country names',\n",
    "            z = country_vaccine['Total vaccinations'],\n",
    "            text = country_vaccine['Country'],\n",
    "            autocolorscale =False,\n",
    "            reversescale = True,\n",
    "            colorscale = 'viridis',\n",
    "            marker = dict(\n",
    "                line = dict(\n",
    "                    color = 'rgb(0,0,0)',\n",
    "                    width = 0.5)\n",
    "            ),\n",
    "            colorbar = dict(\n",
    "                title = 'Total vaccinations',\n",
    "                tickprefix = '')\n",
    "        )\n",
    "\n",
    "data = [trace]\n",
    "layout = go.Layout(\n",
    "    title = 'Total vaccinations per country',\n",
    "    geo = dict(\n",
    "        showframe = True,\n",
    "        showlakes = False,\n",
    "        showcoastlines = True,\n",
    "        projection = dict(\n",
    "            type = 'natural earth'\n",
    "        )\n",
    "    )\n",
    ")\n",
    "\n",
    "fig = dict( data=data, layout=layout )\n",
    "iplot(fig)"
   ]
  },
  {
   "cell_type": "code",
   "execution_count": null,
   "metadata": {
    "_kg_hide-input": true,
    "execution": {
     "iopub.execute_input": "2021-06-22T06:35:12.510353Z",
     "iopub.status.busy": "2021-06-22T06:35:12.509644Z",
     "iopub.status.idle": "2021-06-22T06:35:12.560761Z",
     "shell.execute_reply": "2021-06-22T06:35:12.561351Z"
    },
    "papermill": {
     "duration": 0.258402,
     "end_time": "2021-06-22T06:35:12.561519",
     "exception": false,
     "start_time": "2021-06-22T06:35:12.303117",
     "status": "completed"
    },
    "tags": []
   },
   "outputs": [],
   "source": [
    "trace = go.Choropleth(\n",
    "            locations = country_vaccine['Country'],\n",
    "            locationmode='country names',\n",
    "            z = country_vaccine['Percent'],\n",
    "            text = country_vaccine['Country'],\n",
    "            autocolorscale =False,\n",
    "            reversescale = True,\n",
    "            colorscale = 'viridis',\n",
    "            marker = dict(\n",
    "                line = dict(\n",
    "                    color = 'rgb(0,0,0)',\n",
    "                    width = 0.5)\n",
    "            ),\n",
    "            colorbar = dict(\n",
    "                title = 'Percent',\n",
    "                tickprefix = '')\n",
    "        )\n",
    "\n",
    "data = [trace]\n",
    "layout = go.Layout(\n",
    "    title = 'Total vaccinations per hundred per country',\n",
    "    geo = dict(\n",
    "        showframe = True,\n",
    "        showlakes = False,\n",
    "        showcoastlines = True,\n",
    "        projection = dict(\n",
    "            type = 'natural earth'\n",
    "        )\n",
    "    )\n",
    ")\n",
    "\n",
    "fig = dict( data=data, layout=layout )\n",
    "iplot(fig)"
   ]
  },
  {
   "cell_type": "code",
   "execution_count": null,
   "metadata": {
    "_kg_hide-input": true,
    "execution": {
     "iopub.execute_input": "2021-06-22T06:35:13.020673Z",
     "iopub.status.busy": "2021-06-22T06:35:13.003182Z",
     "iopub.status.idle": "2021-06-22T06:35:13.052210Z",
     "shell.execute_reply": "2021-06-22T06:35:13.052742Z"
    },
    "papermill": {
     "duration": 0.276131,
     "end_time": "2021-06-22T06:35:13.052891",
     "exception": false,
     "start_time": "2021-06-22T06:35:12.776760",
     "status": "completed"
    },
    "tags": []
   },
   "outputs": [],
   "source": [
    "trace = go.Choropleth(\n",
    "            locations = country_vaccine['Country'],\n",
    "            locationmode='country names',\n",
    "            z = country_vaccine['Daily vaccinations'],\n",
    "            text = country_vaccine['Country'],\n",
    "            autocolorscale =False,\n",
    "            reversescale = True,\n",
    "            colorscale = 'viridis',\n",
    "            marker = dict(\n",
    "                line = dict(\n",
    "                    color = 'rgb(0,0,0)',\n",
    "                    width = 0.5)\n",
    "            ),\n",
    "            colorbar = dict(\n",
    "                title = 'Daily vaccinations',\n",
    "                tickprefix = '')\n",
    "        )\n",
    "\n",
    "data = [trace]\n",
    "layout = go.Layout(\n",
    "    title = 'Daily vaccinations per country',\n",
    "    geo = dict(\n",
    "        showframe = True,\n",
    "        showlakes = False,\n",
    "        showcoastlines = True,\n",
    "        projection = dict(\n",
    "            type = 'natural earth'\n",
    "        )\n",
    "    )\n",
    ")\n",
    "\n",
    "fig = dict( data=data, layout=layout )\n",
    "iplot(fig)"
   ]
  },
  {
   "cell_type": "code",
   "execution_count": null,
   "metadata": {
    "_kg_hide-input": true,
    "execution": {
     "iopub.execute_input": "2021-06-22T06:35:13.542088Z",
     "iopub.status.busy": "2021-06-22T06:35:13.532433Z",
     "iopub.status.idle": "2021-06-22T06:35:13.554763Z",
     "shell.execute_reply": "2021-06-22T06:35:13.555348Z"
    },
    "papermill": {
     "duration": 0.279394,
     "end_time": "2021-06-22T06:35:13.555505",
     "exception": false,
     "start_time": "2021-06-22T06:35:13.276111",
     "status": "completed"
    },
    "tags": []
   },
   "outputs": [],
   "source": [
    "trace = go.Choropleth(\n",
    "            locations = country_vaccine['Country'],\n",
    "            locationmode='country names',\n",
    "            z = country_vaccine['Daily vaccinations per million'],\n",
    "            text = country_vaccine['Country'],\n",
    "            autocolorscale =False,\n",
    "            reversescale = True,\n",
    "            colorscale = 'viridis',\n",
    "            marker = dict(\n",
    "                line = dict(\n",
    "                    color = 'rgb(0,0,0)',\n",
    "                    width = 0.5)\n",
    "            ),\n",
    "            colorbar = dict(\n",
    "                title = 'Daily vaccinations per million',\n",
    "                tickprefix = '')\n",
    "        )\n",
    "\n",
    "data = [trace]\n",
    "layout = go.Layout(\n",
    "    title = 'Daily vaccinations per million per country',\n",
    "    geo = dict(\n",
    "        showframe = True,\n",
    "        showlakes = False,\n",
    "        showcoastlines = True,\n",
    "        projection = dict(\n",
    "            type = 'natural earth'\n",
    "        )\n",
    "    )\n",
    ")\n",
    "\n",
    "fig = dict( data=data, layout=layout )\n",
    "iplot(fig)"
   ]
  },
  {
   "cell_type": "code",
   "execution_count": null,
   "metadata": {
    "_kg_hide-input": true,
    "execution": {
     "iopub.execute_input": "2021-06-22T06:35:14.105508Z",
     "iopub.status.busy": "2021-06-22T06:35:14.104808Z",
     "iopub.status.idle": "2021-06-22T06:35:14.116827Z",
     "shell.execute_reply": "2021-06-22T06:35:14.117366Z"
    },
    "papermill": {
     "duration": 0.287102,
     "end_time": "2021-06-22T06:35:14.117508",
     "exception": false,
     "start_time": "2021-06-22T06:35:13.830406",
     "status": "completed"
    },
    "tags": []
   },
   "outputs": [],
   "source": [
    "trace = go.Choropleth(\n",
    "            locations = country_vaccine['Country'],\n",
    "            locationmode='country names',\n",
    "            z = country_vaccine['People vaccinated'],\n",
    "            text = country_vaccine['Country'],\n",
    "            autocolorscale =False,\n",
    "            reversescale = True,\n",
    "            colorscale = 'viridis',\n",
    "            marker = dict(\n",
    "                line = dict(\n",
    "                    color = 'rgb(0,0,0)',\n",
    "                    width = 0.5)\n",
    "            ),\n",
    "            colorbar = dict(\n",
    "                title = 'People vaccinated',\n",
    "                tickprefix = '')\n",
    "        )\n",
    "\n",
    "data = [trace]\n",
    "layout = go.Layout(\n",
    "    title = 'People vaccinated per country',\n",
    "    geo = dict(\n",
    "        showframe = True,\n",
    "        showlakes = False,\n",
    "        showcoastlines = True,\n",
    "        projection = dict(\n",
    "            type = 'natural earth'\n",
    "        )\n",
    "    )\n",
    ")\n",
    "\n",
    "fig = dict( data=data, layout=layout )\n",
    "iplot(fig)"
   ]
  },
  {
   "cell_type": "code",
   "execution_count": null,
   "metadata": {
    "_kg_hide-input": true,
    "execution": {
     "iopub.execute_input": "2021-06-22T06:35:14.637661Z",
     "iopub.status.busy": "2021-06-22T06:35:14.636977Z",
     "iopub.status.idle": "2021-06-22T06:35:14.647851Z",
     "shell.execute_reply": "2021-06-22T06:35:14.648389Z"
    },
    "papermill": {
     "duration": 0.292871,
     "end_time": "2021-06-22T06:35:14.648536",
     "exception": false,
     "start_time": "2021-06-22T06:35:14.355665",
     "status": "completed"
    },
    "tags": []
   },
   "outputs": [],
   "source": [
    "trace = go.Choropleth(\n",
    "            locations = country_vaccine['Country'],\n",
    "            locationmode='country names',\n",
    "            z = country_vaccine['People vaccinated per hundred'],\n",
    "            text = country_vaccine['Country'],\n",
    "            autocolorscale =False,\n",
    "            reversescale = True,\n",
    "            colorscale = 'viridis',\n",
    "            marker = dict(\n",
    "                line = dict(\n",
    "                    color = 'rgb(0,0,0)',\n",
    "                    width = 0.5)\n",
    "            ),\n",
    "            colorbar = dict(\n",
    "                title = 'People vaccinated per hundred',\n",
    "                tickprefix = '')\n",
    "        )\n",
    "\n",
    "data = [trace]\n",
    "layout = go.Layout(\n",
    "    title = 'People vaccinated per hundred per country',\n",
    "    geo = dict(\n",
    "        showframe = True,\n",
    "        showlakes = False,\n",
    "        showcoastlines = True,\n",
    "        projection = dict(\n",
    "            type = 'natural earth'\n",
    "        )\n",
    "    )\n",
    ")\n",
    "\n",
    "fig = dict( data=data, layout=layout )\n",
    "iplot(fig)"
   ]
  },
  {
   "cell_type": "markdown",
   "metadata": {
    "papermill": {
     "duration": 0.245032,
     "end_time": "2021-06-22T06:35:15.162991",
     "exception": false,
     "start_time": "2021-06-22T06:35:14.917959",
     "status": "completed"
    },
    "tags": []
   },
   "source": [
    "<small><a href='#0'>Go to top</a></small>  \n",
    "\n",
    "---\n",
    "\n",
    "<small><a href='#0'>Ir para o topo</a></small>\n",
    "\n",
    "---"
   ]
  },
  {
   "cell_type": "markdown",
   "metadata": {
    "papermill": {
     "duration": 0.25211,
     "end_time": "2021-06-22T06:35:15.661596",
     "exception": false,
     "start_time": "2021-06-22T06:35:15.409486",
     "status": "completed"
    },
    "tags": []
   },
   "source": [
    "\n",
    "<a id=\"5\"></a><h1 style='background:#26A2AB; border:0; color:black'><center>How the vaccination progressed</center></h1>\n",
    "\n",
    "Let's look to the way the vaccination progressed.\n",
    "\n",
    "We will look to the values of total vaccination and daily vaccination.\n",
    "\n",
    "---\n",
    "<a id=\"5\"></a><h1 style='background:#26A2AB; border:0; color:black'><center>Como a vacinação progrediu</center></h1>\n",
    "\n",
    "Vamos analisar como a vacinação progrediu. \n",
    "Analisaremos os valores da vacinação total e da vacinação diária.\n",
    "---\n",
    "\n"
   ]
  },
  {
   "cell_type": "code",
   "execution_count": null,
   "metadata": {
    "_kg_hide-input": true,
    "execution": {
     "iopub.execute_input": "2021-06-22T06:35:16.201686Z",
     "iopub.status.busy": "2021-06-22T06:35:16.200977Z",
     "iopub.status.idle": "2021-06-22T06:35:16.223078Z",
     "shell.execute_reply": "2021-06-22T06:35:16.223611Z"
    },
    "papermill": {
     "duration": 0.273186,
     "end_time": "2021-06-22T06:35:16.223774",
     "exception": false,
     "start_time": "2021-06-22T06:35:15.950588",
     "status": "completed"
    },
    "tags": []
   },
   "outputs": [],
   "source": [
    "country_vaccine_time = data_df[[\"country\", \"vaccines\", \"date\", 'total_vaccinations', \n",
    "                                'total_vaccinations_per_hundred',  'people_vaccinated','people_vaccinated_per_hundred',\n",
    "                               'daily_vaccinations','daily_vaccinations_per_million', \n",
    "                                'people_fully_vaccinated', 'people_fully_vaccinated_per_hundred'\n",
    "                               ]].dropna()\n",
    "country_vaccine_time.columns = [\"Country\", \"Vaccines\", \"Date\", 'Total vaccinations', 'Percent', 'People vaccinated', 'People percent',\n",
    "                               \"Daily vaccinations\", \"Daily vaccinations per million\", \n",
    "                                'People fully vaccinated', 'People fully vaccinated percent']"
   ]
  },
  {
   "cell_type": "code",
   "execution_count": null,
   "metadata": {
    "_kg_hide-input": true,
    "execution": {
     "iopub.execute_input": "2021-06-22T06:35:16.722441Z",
     "iopub.status.busy": "2021-06-22T06:35:16.718801Z",
     "iopub.status.idle": "2021-06-22T06:35:16.725171Z",
     "shell.execute_reply": "2021-06-22T06:35:16.724549Z"
    },
    "papermill": {
     "duration": 0.255572,
     "end_time": "2021-06-22T06:35:16.725302",
     "exception": false,
     "start_time": "2021-06-22T06:35:16.469730",
     "status": "completed"
    },
    "tags": []
   },
   "outputs": [],
   "source": [
    "countries = ['Austria', 'Belgium', 'Bulgaria','Croatia', 'Cyprus', 'Czechia', 'Denmark', 'Estonia', 'Finland', 'France', 'Germany',\n",
    "             'Greece', 'Hungary', 'Ireland', 'Israel', 'Italy', 'Latvia','Lithuania', 'Luxembourg', 'Malta',\n",
    "             'Netherlands', 'Norway','Poland', 'Portugal', 'Romania', 'Serbia', 'Slovakia', 'Spain', 'Sweden',\n",
    "             'United Kingdom', 'United States', 'China']"
   ]
  },
  {
   "cell_type": "code",
   "execution_count": null,
   "metadata": {
    "_kg_hide-input": true,
    "execution": {
     "iopub.execute_input": "2021-06-22T06:35:17.233850Z",
     "iopub.status.busy": "2021-06-22T06:35:17.229762Z",
     "iopub.status.idle": "2021-06-22T06:35:17.236591Z",
     "shell.execute_reply": "2021-06-22T06:35:17.236035Z"
    },
    "papermill": {
     "duration": 0.263614,
     "end_time": "2021-06-22T06:35:17.236714",
     "exception": false,
     "start_time": "2021-06-22T06:35:16.973100",
     "status": "completed"
    },
    "tags": []
   },
   "outputs": [],
   "source": [
    "def plot_time_variation_countries_group(data_df, feature, title, countries):\n",
    "    data = []\n",
    "    for country in countries:\n",
    "        df = data_df.loc[data_df.Country==country]\n",
    "        trace = go.Scatter(\n",
    "            x = df['Date'],y = df[feature],\n",
    "            name=country,\n",
    "            mode = \"markers+lines\",\n",
    "            marker_line_width = 1,\n",
    "            marker_size = 8,\n",
    "            marker_symbol = 'circle',\n",
    "            text=df['Country'])\n",
    "        data.append(trace)\n",
    "    layout = dict(title = title,\n",
    "          xaxis = dict(title = 'Date', showticklabels=True,zeroline=True, zerolinewidth=1, zerolinecolor='grey',\n",
    "                       showline=True, linewidth=2, linecolor='black', mirror=True,\n",
    "                       tickfont=dict(size=10,color='darkblue'),), \n",
    "          yaxis = dict(title = feature, gridcolor='lightgrey', zeroline=True, zerolinewidth=1, zerolinecolor='grey',\n",
    "                       showline=True, linewidth=2, linecolor='black', mirror=True, type=\"log\"),\n",
    "                       plot_bgcolor = 'rgba(0, 0, 0, 0)', paper_bgcolor = 'rgba(0, 0, 0, 0)',\n",
    "         hovermode = 'x', \n",
    "         height=800\n",
    "         )\n",
    "    fig = dict(data=data, layout=layout)\n",
    "    iplot(fig, filename='all_countries')"
   ]
  },
  {
   "cell_type": "code",
   "execution_count": null,
   "metadata": {
    "_kg_hide-input": true,
    "execution": {
     "iopub.execute_input": "2021-06-22T06:35:17.737550Z",
     "iopub.status.busy": "2021-06-22T06:35:17.736397Z",
     "iopub.status.idle": "2021-06-22T06:35:18.063397Z",
     "shell.execute_reply": "2021-06-22T06:35:18.064006Z"
    },
    "papermill": {
     "duration": 0.580204,
     "end_time": "2021-06-22T06:35:18.064152",
     "exception": false,
     "start_time": "2021-06-22T06:35:17.483948",
     "status": "completed"
    },
    "tags": []
   },
   "outputs": [],
   "source": [
    "plot_time_variation_countries_group(country_vaccine_time, 'Percent', 'Total vaccination percent evolution (selected countries, log scale)', countries)"
   ]
  },
  {
   "cell_type": "code",
   "execution_count": null,
   "metadata": {
    "_kg_hide-input": true,
    "execution": {
     "iopub.execute_input": "2021-06-22T06:35:18.831265Z",
     "iopub.status.busy": "2021-06-22T06:35:18.825537Z",
     "iopub.status.idle": "2021-06-22T06:35:19.011382Z",
     "shell.execute_reply": "2021-06-22T06:35:19.011991Z"
    },
    "papermill": {
     "duration": 0.620027,
     "end_time": "2021-06-22T06:35:19.012132",
     "exception": false,
     "start_time": "2021-06-22T06:35:18.392105",
     "status": "completed"
    },
    "tags": []
   },
   "outputs": [],
   "source": [
    "plot_time_variation_countries_group(country_vaccine_time, 'Total vaccinations', 'Total vaccination evolution (selected countries, log scale)', countries)"
   ]
  },
  {
   "cell_type": "code",
   "execution_count": null,
   "metadata": {
    "_kg_hide-input": true,
    "execution": {
     "iopub.execute_input": "2021-06-22T06:35:19.945264Z",
     "iopub.status.busy": "2021-06-22T06:35:19.938872Z",
     "iopub.status.idle": "2021-06-22T06:35:20.020785Z",
     "shell.execute_reply": "2021-06-22T06:35:20.021416Z"
    },
    "papermill": {
     "duration": 0.677818,
     "end_time": "2021-06-22T06:35:20.021564",
     "exception": false,
     "start_time": "2021-06-22T06:35:19.343746",
     "status": "completed"
    },
    "tags": []
   },
   "outputs": [],
   "source": [
    "plot_time_variation_countries_group(country_vaccine_time, 'People percent', 'People vaccinated percent evolution (selected countries, log scale)', countries)"
   ]
  },
  {
   "cell_type": "code",
   "execution_count": null,
   "metadata": {
    "_kg_hide-input": true,
    "execution": {
     "iopub.execute_input": "2021-06-22T06:35:20.822338Z",
     "iopub.status.busy": "2021-06-22T06:35:20.821495Z",
     "iopub.status.idle": "2021-06-22T06:35:21.094726Z",
     "shell.execute_reply": "2021-06-22T06:35:21.095353Z"
    },
    "papermill": {
     "duration": 0.700141,
     "end_time": "2021-06-22T06:35:21.095505",
     "exception": false,
     "start_time": "2021-06-22T06:35:20.395364",
     "status": "completed"
    },
    "tags": []
   },
   "outputs": [],
   "source": [
    "plot_time_variation_countries_group(country_vaccine_time, 'People vaccinated', 'People vaccinated evolution (selected countries, log scale)', countries)"
   ]
  },
  {
   "cell_type": "code",
   "execution_count": null,
   "metadata": {
    "_kg_hide-input": true,
    "execution": {
     "iopub.execute_input": "2021-06-22T06:35:22.164702Z",
     "iopub.status.busy": "2021-06-22T06:35:22.118581Z",
     "iopub.status.idle": "2021-06-22T06:35:22.309557Z",
     "shell.execute_reply": "2021-06-22T06:35:22.310161Z"
    },
    "papermill": {
     "duration": 0.755741,
     "end_time": "2021-06-22T06:35:22.310326",
     "exception": false,
     "start_time": "2021-06-22T06:35:21.554585",
     "status": "completed"
    },
    "tags": []
   },
   "outputs": [],
   "source": [
    "plot_time_variation_countries_group(country_vaccine_time, 'Daily vaccinations', 'Daily vaccinations evolution (selected countries, log scale)', countries)"
   ]
  },
  {
   "cell_type": "code",
   "execution_count": null,
   "metadata": {
    "_kg_hide-input": true,
    "execution": {
     "iopub.execute_input": "2021-06-22T06:35:23.363475Z",
     "iopub.status.busy": "2021-06-22T06:35:23.361040Z",
     "iopub.status.idle": "2021-06-22T06:35:23.551764Z",
     "shell.execute_reply": "2021-06-22T06:35:23.552365Z"
    },
    "papermill": {
     "duration": 0.789917,
     "end_time": "2021-06-22T06:35:23.552520",
     "exception": false,
     "start_time": "2021-06-22T06:35:22.762603",
     "status": "completed"
    },
    "tags": []
   },
   "outputs": [],
   "source": [
    "plot_time_variation_countries_group(country_vaccine_time, 'Daily vaccinations per million', 'Daily vaccinations per million evolution (selected countries, log scale)', countries)"
   ]
  },
  {
   "cell_type": "code",
   "execution_count": null,
   "metadata": {
    "_kg_hide-input": true,
    "execution": {
     "iopub.execute_input": "2021-06-22T06:35:24.659413Z",
     "iopub.status.busy": "2021-06-22T06:35:24.620626Z",
     "iopub.status.idle": "2021-06-22T06:35:24.916944Z",
     "shell.execute_reply": "2021-06-22T06:35:24.917564Z"
    },
    "papermill": {
     "duration": 0.865342,
     "end_time": "2021-06-22T06:35:24.917710",
     "exception": false,
     "start_time": "2021-06-22T06:35:24.052368",
     "status": "completed"
    },
    "tags": []
   },
   "outputs": [],
   "source": [
    "plot_time_variation_countries_group(country_vaccine_time, 'People fully vaccinated percent', 'People fully vaccinated percent evolution (selected countries, log scale)', countries)"
   ]
  },
  {
   "cell_type": "code",
   "execution_count": null,
   "metadata": {
    "_kg_hide-input": true,
    "execution": {
     "iopub.execute_input": "2021-06-22T06:35:26.062865Z",
     "iopub.status.busy": "2021-06-22T06:35:26.059620Z",
     "iopub.status.idle": "2021-06-22T06:35:26.350807Z",
     "shell.execute_reply": "2021-06-22T06:35:26.351451Z"
    },
    "papermill": {
     "duration": 0.890642,
     "end_time": "2021-06-22T06:35:26.351648",
     "exception": false,
     "start_time": "2021-06-22T06:35:25.461006",
     "status": "completed"
    },
    "tags": []
   },
   "outputs": [],
   "source": [
    "plot_time_variation_countries_group(country_vaccine_time, 'People fully vaccinated', 'People fully vaccinated evolution (selected countries, log scale)', countries)"
   ]
  },
  {
   "cell_type": "markdown",
   "metadata": {
    "papermill": {
     "duration": 0.581621,
     "end_time": "2021-06-22T06:35:27.515417",
     "exception": false,
     "start_time": "2021-06-22T06:35:26.933796",
     "status": "completed"
    },
    "tags": []
   },
   "source": [
    "<small><a href='#0'>Go to top</a></small>  \n",
    "\n",
    "---\n",
    "<small><a href='#0'>Ir para o topo</a></small>\n",
    "\n",
    "---"
   ]
  }
 ],
 "metadata": {
  "kernelspec": {
   "display_name": "Python 3",
   "language": "python",
   "name": "python3"
  },
  "language_info": {
   "codemirror_mode": {
    "name": "ipython",
    "version": 3
   },
   "file_extension": ".py",
   "mimetype": "text/x-python",
   "name": "python",
   "nbconvert_exporter": "python",
   "pygments_lexer": "ipython3",
   "version": "3.12.5"
  },
  "papermill": {
   "duration": 33.3253,
   "end_time": "2021-06-22T06:35:28.250677",
   "environment_variables": {},
   "exception": null,
   "input_path": "__notebook__.ipynb",
   "output_path": "__notebook__.ipynb",
   "parameters": {},
   "start_time": "2021-06-22T06:34:54.925377",
   "version": "2.1.0"
  }
 },
 "nbformat": 4,
 "nbformat_minor": 4
}
